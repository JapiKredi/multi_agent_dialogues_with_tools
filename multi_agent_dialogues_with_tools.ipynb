{
  "nbformat": 4,
  "nbformat_minor": 0,
  "metadata": {
    "colab": {
      "provenance": [],
      "authorship_tag": "ABX9TyMwYnalWf5a7dGBUmHXqHA9",
      "include_colab_link": true
    },
    "kernelspec": {
      "name": "python3",
      "display_name": "Python 3"
    },
    "language_info": {
      "name": "python"
    }
  },
  "cells": [
    {
      "cell_type": "markdown",
      "metadata": {
        "id": "view-in-github",
        "colab_type": "text"
      },
      "source": [
        "<a href=\"https://colab.research.google.com/github/JapiKredi/multi_agent_dialogues_with_tools/blob/main/multi_agent_dialogues_with_tools.ipynb\" target=\"_parent\"><img src=\"https://colab.research.google.com/assets/colab-badge.svg\" alt=\"Open In Colab\"/></a>"
      ]
    },
    {
      "cell_type": "markdown",
      "source": [
        "# Agent Debates with Tools"
      ],
      "metadata": {
        "id": "zQRCRU8armm3"
      }
    },
    {
      "cell_type": "markdown",
      "source": [
        "### Import LangChain related modules"
      ],
      "metadata": {
        "id": "cCZn7dSTrrns"
      }
    },
    {
      "cell_type": "code",
      "source": [
        "!pip install langchain"
      ],
      "metadata": {
        "colab": {
          "base_uri": "https://localhost:8080/"
        },
        "id": "RcAXAVH9rx7B",
        "outputId": "4f0139e3-bc44-4047-b0fd-f021b0255304"
      },
      "execution_count": 2,
      "outputs": [
        {
          "output_type": "stream",
          "name": "stdout",
          "text": [
            "Collecting langchain\n",
            "  Downloading langchain-0.1.11-py3-none-any.whl (807 kB)\n",
            "\u001b[?25l     \u001b[90m━━━━━━━━━━━━━━━━━━━━━━━━━━━━━━━━━━━━━━━━\u001b[0m \u001b[32m0.0/807.5 kB\u001b[0m \u001b[31m?\u001b[0m eta \u001b[36m-:--:--\u001b[0m\r\u001b[2K     \u001b[91m━━━━━━━━━━━━━\u001b[0m\u001b[91m╸\u001b[0m\u001b[90m━━━━━━━━━━━━━━━━━━━━━━━━━━\u001b[0m \u001b[32m276.5/807.5 kB\u001b[0m \u001b[31m8.3 MB/s\u001b[0m eta \u001b[36m0:00:01\u001b[0m\r\u001b[2K     \u001b[91m━━━━━━━━━━━━━━━━━━━━━━━━━━━━━━━━━━━━━━━\u001b[0m\u001b[91m╸\u001b[0m \u001b[32m798.7/807.5 kB\u001b[0m \u001b[31m12.5 MB/s\u001b[0m eta \u001b[36m0:00:01\u001b[0m\r\u001b[2K     \u001b[90m━━━━━━━━━━━━━━━━━━━━━━━━━━━━━━━━━━━━━━━━\u001b[0m \u001b[32m807.5/807.5 kB\u001b[0m \u001b[31m10.7 MB/s\u001b[0m eta \u001b[36m0:00:00\u001b[0m\n",
            "\u001b[?25hRequirement already satisfied: PyYAML>=5.3 in /usr/local/lib/python3.10/dist-packages (from langchain) (6.0.1)\n",
            "Requirement already satisfied: SQLAlchemy<3,>=1.4 in /usr/local/lib/python3.10/dist-packages (from langchain) (2.0.28)\n",
            "Requirement already satisfied: aiohttp<4.0.0,>=3.8.3 in /usr/local/lib/python3.10/dist-packages (from langchain) (3.9.3)\n",
            "Requirement already satisfied: async-timeout<5.0.0,>=4.0.0 in /usr/local/lib/python3.10/dist-packages (from langchain) (4.0.3)\n",
            "Collecting dataclasses-json<0.7,>=0.5.7 (from langchain)\n",
            "  Downloading dataclasses_json-0.6.4-py3-none-any.whl (28 kB)\n",
            "Collecting jsonpatch<2.0,>=1.33 (from langchain)\n",
            "  Downloading jsonpatch-1.33-py2.py3-none-any.whl (12 kB)\n",
            "Collecting langchain-community<0.1,>=0.0.25 (from langchain)\n",
            "  Downloading langchain_community-0.0.27-py3-none-any.whl (1.8 MB)\n",
            "\u001b[2K     \u001b[90m━━━━━━━━━━━━━━━━━━━━━━━━━━━━━━━━━━━━━━━━\u001b[0m \u001b[32m1.8/1.8 MB\u001b[0m \u001b[31m19.7 MB/s\u001b[0m eta \u001b[36m0:00:00\u001b[0m\n",
            "\u001b[?25hCollecting langchain-core<0.2,>=0.1.29 (from langchain)\n",
            "  Downloading langchain_core-0.1.30-py3-none-any.whl (256 kB)\n",
            "\u001b[2K     \u001b[90m━━━━━━━━━━━━━━━━━━━━━━━━━━━━━━━━━━━━━━━━\u001b[0m \u001b[32m256.9/256.9 kB\u001b[0m \u001b[31m20.5 MB/s\u001b[0m eta \u001b[36m0:00:00\u001b[0m\n",
            "\u001b[?25hCollecting langchain-text-splitters<0.1,>=0.0.1 (from langchain)\n",
            "  Downloading langchain_text_splitters-0.0.1-py3-none-any.whl (21 kB)\n",
            "Collecting langsmith<0.2.0,>=0.1.17 (from langchain)\n",
            "  Downloading langsmith-0.1.23-py3-none-any.whl (66 kB)\n",
            "\u001b[2K     \u001b[90m━━━━━━━━━━━━━━━━━━━━━━━━━━━━━━━━━━━━━━━━\u001b[0m \u001b[32m66.6/66.6 kB\u001b[0m \u001b[31m5.2 MB/s\u001b[0m eta \u001b[36m0:00:00\u001b[0m\n",
            "\u001b[?25hRequirement already satisfied: numpy<2,>=1 in /usr/local/lib/python3.10/dist-packages (from langchain) (1.25.2)\n",
            "Requirement already satisfied: pydantic<3,>=1 in /usr/local/lib/python3.10/dist-packages (from langchain) (2.6.3)\n",
            "Requirement already satisfied: requests<3,>=2 in /usr/local/lib/python3.10/dist-packages (from langchain) (2.31.0)\n",
            "Requirement already satisfied: tenacity<9.0.0,>=8.1.0 in /usr/local/lib/python3.10/dist-packages (from langchain) (8.2.3)\n",
            "Requirement already satisfied: aiosignal>=1.1.2 in /usr/local/lib/python3.10/dist-packages (from aiohttp<4.0.0,>=3.8.3->langchain) (1.3.1)\n",
            "Requirement already satisfied: attrs>=17.3.0 in /usr/local/lib/python3.10/dist-packages (from aiohttp<4.0.0,>=3.8.3->langchain) (23.2.0)\n",
            "Requirement already satisfied: frozenlist>=1.1.1 in /usr/local/lib/python3.10/dist-packages (from aiohttp<4.0.0,>=3.8.3->langchain) (1.4.1)\n",
            "Requirement already satisfied: multidict<7.0,>=4.5 in /usr/local/lib/python3.10/dist-packages (from aiohttp<4.0.0,>=3.8.3->langchain) (6.0.5)\n",
            "Requirement already satisfied: yarl<2.0,>=1.0 in /usr/local/lib/python3.10/dist-packages (from aiohttp<4.0.0,>=3.8.3->langchain) (1.9.4)\n",
            "Collecting marshmallow<4.0.0,>=3.18.0 (from dataclasses-json<0.7,>=0.5.7->langchain)\n",
            "  Downloading marshmallow-3.21.1-py3-none-any.whl (49 kB)\n",
            "\u001b[2K     \u001b[90m━━━━━━━━━━━━━━━━━━━━━━━━━━━━━━━━━━━━━━━━\u001b[0m \u001b[32m49.4/49.4 kB\u001b[0m \u001b[31m6.6 MB/s\u001b[0m eta \u001b[36m0:00:00\u001b[0m\n",
            "\u001b[?25hCollecting typing-inspect<1,>=0.4.0 (from dataclasses-json<0.7,>=0.5.7->langchain)\n",
            "  Downloading typing_inspect-0.9.0-py3-none-any.whl (8.8 kB)\n",
            "Collecting jsonpointer>=1.9 (from jsonpatch<2.0,>=1.33->langchain)\n",
            "  Downloading jsonpointer-2.4-py2.py3-none-any.whl (7.8 kB)\n",
            "Requirement already satisfied: anyio<5,>=3 in /usr/local/lib/python3.10/dist-packages (from langchain-core<0.2,>=0.1.29->langchain) (3.7.1)\n",
            "Requirement already satisfied: packaging<24.0,>=23.2 in /usr/local/lib/python3.10/dist-packages (from langchain-core<0.2,>=0.1.29->langchain) (23.2)\n",
            "Collecting orjson<4.0.0,>=3.9.14 (from langsmith<0.2.0,>=0.1.17->langchain)\n",
            "  Downloading orjson-3.9.15-cp310-cp310-manylinux_2_17_x86_64.manylinux2014_x86_64.whl (138 kB)\n",
            "\u001b[2K     \u001b[90m━━━━━━━━━━━━━━━━━━━━━━━━━━━━━━━━━━━━━━━━\u001b[0m \u001b[32m138.5/138.5 kB\u001b[0m \u001b[31m16.8 MB/s\u001b[0m eta \u001b[36m0:00:00\u001b[0m\n",
            "\u001b[?25hRequirement already satisfied: annotated-types>=0.4.0 in /usr/local/lib/python3.10/dist-packages (from pydantic<3,>=1->langchain) (0.6.0)\n",
            "Requirement already satisfied: pydantic-core==2.16.3 in /usr/local/lib/python3.10/dist-packages (from pydantic<3,>=1->langchain) (2.16.3)\n",
            "Requirement already satisfied: typing-extensions>=4.6.1 in /usr/local/lib/python3.10/dist-packages (from pydantic<3,>=1->langchain) (4.10.0)\n",
            "Requirement already satisfied: charset-normalizer<4,>=2 in /usr/local/lib/python3.10/dist-packages (from requests<3,>=2->langchain) (3.3.2)\n",
            "Requirement already satisfied: idna<4,>=2.5 in /usr/local/lib/python3.10/dist-packages (from requests<3,>=2->langchain) (3.6)\n",
            "Requirement already satisfied: urllib3<3,>=1.21.1 in /usr/local/lib/python3.10/dist-packages (from requests<3,>=2->langchain) (2.0.7)\n",
            "Requirement already satisfied: certifi>=2017.4.17 in /usr/local/lib/python3.10/dist-packages (from requests<3,>=2->langchain) (2024.2.2)\n",
            "Requirement already satisfied: greenlet!=0.4.17 in /usr/local/lib/python3.10/dist-packages (from SQLAlchemy<3,>=1.4->langchain) (3.0.3)\n",
            "Requirement already satisfied: sniffio>=1.1 in /usr/local/lib/python3.10/dist-packages (from anyio<5,>=3->langchain-core<0.2,>=0.1.29->langchain) (1.3.1)\n",
            "Requirement already satisfied: exceptiongroup in /usr/local/lib/python3.10/dist-packages (from anyio<5,>=3->langchain-core<0.2,>=0.1.29->langchain) (1.2.0)\n",
            "Collecting mypy-extensions>=0.3.0 (from typing-inspect<1,>=0.4.0->dataclasses-json<0.7,>=0.5.7->langchain)\n",
            "  Downloading mypy_extensions-1.0.0-py3-none-any.whl (4.7 kB)\n",
            "Installing collected packages: orjson, mypy-extensions, marshmallow, jsonpointer, typing-inspect, jsonpatch, langsmith, dataclasses-json, langchain-core, langchain-text-splitters, langchain-community, langchain\n",
            "Successfully installed dataclasses-json-0.6.4 jsonpatch-1.33 jsonpointer-2.4 langchain-0.1.11 langchain-community-0.0.27 langchain-core-0.1.30 langchain-text-splitters-0.0.1 langsmith-0.1.23 marshmallow-3.21.1 mypy-extensions-1.0.0 orjson-3.9.15 typing-inspect-0.9.0\n"
          ]
        }
      ]
    },
    {
      "cell_type": "code",
      "source": [
        "!pip install langchain_openai"
      ],
      "metadata": {
        "colab": {
          "base_uri": "https://localhost:8080/"
        },
        "id": "hz-OJcvcsDk3",
        "outputId": "9b4cf102-a1e5-40c9-bda5-bdf178f0502c"
      },
      "execution_count": 4,
      "outputs": [
        {
          "output_type": "stream",
          "name": "stdout",
          "text": [
            "Collecting langchain_openai\n",
            "  Downloading langchain_openai-0.0.8-py3-none-any.whl (32 kB)\n",
            "Requirement already satisfied: langchain-core<0.2.0,>=0.1.27 in /usr/local/lib/python3.10/dist-packages (from langchain_openai) (0.1.30)\n",
            "Collecting openai<2.0.0,>=1.10.0 (from langchain_openai)\n",
            "  Downloading openai-1.13.3-py3-none-any.whl (227 kB)\n",
            "\u001b[2K     \u001b[90m━━━━━━━━━━━━━━━━━━━━━━━━━━━━━━━━━━━━━━━━\u001b[0m \u001b[32m227.4/227.4 kB\u001b[0m \u001b[31m10.4 MB/s\u001b[0m eta \u001b[36m0:00:00\u001b[0m\n",
            "\u001b[?25hCollecting tiktoken<1,>=0.5.2 (from langchain_openai)\n",
            "  Downloading tiktoken-0.6.0-cp310-cp310-manylinux_2_17_x86_64.manylinux2014_x86_64.whl (1.8 MB)\n",
            "\u001b[2K     \u001b[90m━━━━━━━━━━━━━━━━━━━━━━━━━━━━━━━━━━━━━━━━\u001b[0m \u001b[32m1.8/1.8 MB\u001b[0m \u001b[31m21.7 MB/s\u001b[0m eta \u001b[36m0:00:00\u001b[0m\n",
            "\u001b[?25hRequirement already satisfied: PyYAML>=5.3 in /usr/local/lib/python3.10/dist-packages (from langchain-core<0.2.0,>=0.1.27->langchain_openai) (6.0.1)\n",
            "Requirement already satisfied: anyio<5,>=3 in /usr/local/lib/python3.10/dist-packages (from langchain-core<0.2.0,>=0.1.27->langchain_openai) (3.7.1)\n",
            "Requirement already satisfied: jsonpatch<2.0,>=1.33 in /usr/local/lib/python3.10/dist-packages (from langchain-core<0.2.0,>=0.1.27->langchain_openai) (1.33)\n",
            "Requirement already satisfied: langsmith<0.2.0,>=0.1.0 in /usr/local/lib/python3.10/dist-packages (from langchain-core<0.2.0,>=0.1.27->langchain_openai) (0.1.23)\n",
            "Requirement already satisfied: packaging<24.0,>=23.2 in /usr/local/lib/python3.10/dist-packages (from langchain-core<0.2.0,>=0.1.27->langchain_openai) (23.2)\n",
            "Requirement already satisfied: pydantic<3,>=1 in /usr/local/lib/python3.10/dist-packages (from langchain-core<0.2.0,>=0.1.27->langchain_openai) (2.6.3)\n",
            "Requirement already satisfied: requests<3,>=2 in /usr/local/lib/python3.10/dist-packages (from langchain-core<0.2.0,>=0.1.27->langchain_openai) (2.31.0)\n",
            "Requirement already satisfied: tenacity<9.0.0,>=8.1.0 in /usr/local/lib/python3.10/dist-packages (from langchain-core<0.2.0,>=0.1.27->langchain_openai) (8.2.3)\n",
            "Requirement already satisfied: distro<2,>=1.7.0 in /usr/lib/python3/dist-packages (from openai<2.0.0,>=1.10.0->langchain_openai) (1.7.0)\n",
            "Collecting httpx<1,>=0.23.0 (from openai<2.0.0,>=1.10.0->langchain_openai)\n",
            "  Downloading httpx-0.27.0-py3-none-any.whl (75 kB)\n",
            "\u001b[2K     \u001b[90m━━━━━━━━━━━━━━━━━━━━━━━━━━━━━━━━━━━━━━━━\u001b[0m \u001b[32m75.6/75.6 kB\u001b[0m \u001b[31m9.0 MB/s\u001b[0m eta \u001b[36m0:00:00\u001b[0m\n",
            "\u001b[?25hRequirement already satisfied: sniffio in /usr/local/lib/python3.10/dist-packages (from openai<2.0.0,>=1.10.0->langchain_openai) (1.3.1)\n",
            "Requirement already satisfied: tqdm>4 in /usr/local/lib/python3.10/dist-packages (from openai<2.0.0,>=1.10.0->langchain_openai) (4.66.2)\n",
            "Requirement already satisfied: typing-extensions<5,>=4.7 in /usr/local/lib/python3.10/dist-packages (from openai<2.0.0,>=1.10.0->langchain_openai) (4.10.0)\n",
            "Requirement already satisfied: regex>=2022.1.18 in /usr/local/lib/python3.10/dist-packages (from tiktoken<1,>=0.5.2->langchain_openai) (2023.12.25)\n",
            "Requirement already satisfied: idna>=2.8 in /usr/local/lib/python3.10/dist-packages (from anyio<5,>=3->langchain-core<0.2.0,>=0.1.27->langchain_openai) (3.6)\n",
            "Requirement already satisfied: exceptiongroup in /usr/local/lib/python3.10/dist-packages (from anyio<5,>=3->langchain-core<0.2.0,>=0.1.27->langchain_openai) (1.2.0)\n",
            "Requirement already satisfied: certifi in /usr/local/lib/python3.10/dist-packages (from httpx<1,>=0.23.0->openai<2.0.0,>=1.10.0->langchain_openai) (2024.2.2)\n",
            "Collecting httpcore==1.* (from httpx<1,>=0.23.0->openai<2.0.0,>=1.10.0->langchain_openai)\n",
            "  Downloading httpcore-1.0.4-py3-none-any.whl (77 kB)\n",
            "\u001b[2K     \u001b[90m━━━━━━━━━━━━━━━━━━━━━━━━━━━━━━━━━━━━━━━━\u001b[0m \u001b[32m77.8/77.8 kB\u001b[0m \u001b[31m7.6 MB/s\u001b[0m eta \u001b[36m0:00:00\u001b[0m\n",
            "\u001b[?25hCollecting h11<0.15,>=0.13 (from httpcore==1.*->httpx<1,>=0.23.0->openai<2.0.0,>=1.10.0->langchain_openai)\n",
            "  Downloading h11-0.14.0-py3-none-any.whl (58 kB)\n",
            "\u001b[2K     \u001b[90m━━━━━━━━━━━━━━━━━━━━━━━━━━━━━━━━━━━━━━━━\u001b[0m \u001b[32m58.3/58.3 kB\u001b[0m \u001b[31m7.4 MB/s\u001b[0m eta \u001b[36m0:00:00\u001b[0m\n",
            "\u001b[?25hRequirement already satisfied: jsonpointer>=1.9 in /usr/local/lib/python3.10/dist-packages (from jsonpatch<2.0,>=1.33->langchain-core<0.2.0,>=0.1.27->langchain_openai) (2.4)\n",
            "Requirement already satisfied: orjson<4.0.0,>=3.9.14 in /usr/local/lib/python3.10/dist-packages (from langsmith<0.2.0,>=0.1.0->langchain-core<0.2.0,>=0.1.27->langchain_openai) (3.9.15)\n",
            "Requirement already satisfied: annotated-types>=0.4.0 in /usr/local/lib/python3.10/dist-packages (from pydantic<3,>=1->langchain-core<0.2.0,>=0.1.27->langchain_openai) (0.6.0)\n",
            "Requirement already satisfied: pydantic-core==2.16.3 in /usr/local/lib/python3.10/dist-packages (from pydantic<3,>=1->langchain-core<0.2.0,>=0.1.27->langchain_openai) (2.16.3)\n",
            "Requirement already satisfied: charset-normalizer<4,>=2 in /usr/local/lib/python3.10/dist-packages (from requests<3,>=2->langchain-core<0.2.0,>=0.1.27->langchain_openai) (3.3.2)\n",
            "Requirement already satisfied: urllib3<3,>=1.21.1 in /usr/local/lib/python3.10/dist-packages (from requests<3,>=2->langchain-core<0.2.0,>=0.1.27->langchain_openai) (2.0.7)\n",
            "Installing collected packages: h11, tiktoken, httpcore, httpx, openai, langchain_openai\n",
            "Successfully installed h11-0.14.0 httpcore-1.0.4 httpx-0.27.0 langchain_openai-0.0.8 openai-1.13.3 tiktoken-0.6.0\n"
          ]
        }
      ]
    },
    {
      "cell_type": "code",
      "source": [
        "!pip install arxiv\n",
        "!pip install -U duckduckgo-search\n",
        "!pip install wikipedia"
      ],
      "metadata": {
        "colab": {
          "base_uri": "https://localhost:8080/"
        },
        "id": "6QIOr1gKvF0S",
        "outputId": "236e87da-e898-4789-96fe-6834c5f5cab3"
      },
      "execution_count": 32,
      "outputs": [
        {
          "output_type": "stream",
          "name": "stdout",
          "text": [
            "Requirement already satisfied: arxiv in /usr/local/lib/python3.10/dist-packages (2.1.0)\n",
            "Requirement already satisfied: feedparser==6.0.10 in /usr/local/lib/python3.10/dist-packages (from arxiv) (6.0.10)\n",
            "Requirement already satisfied: requests==2.31.0 in /usr/local/lib/python3.10/dist-packages (from arxiv) (2.31.0)\n",
            "Requirement already satisfied: sgmllib3k in /usr/local/lib/python3.10/dist-packages (from feedparser==6.0.10->arxiv) (1.0.0)\n",
            "Requirement already satisfied: charset-normalizer<4,>=2 in /usr/local/lib/python3.10/dist-packages (from requests==2.31.0->arxiv) (3.3.2)\n",
            "Requirement already satisfied: idna<4,>=2.5 in /usr/local/lib/python3.10/dist-packages (from requests==2.31.0->arxiv) (3.6)\n",
            "Requirement already satisfied: urllib3<3,>=1.21.1 in /usr/local/lib/python3.10/dist-packages (from requests==2.31.0->arxiv) (2.0.7)\n",
            "Requirement already satisfied: certifi>=2017.4.17 in /usr/local/lib/python3.10/dist-packages (from requests==2.31.0->arxiv) (2024.2.2)\n",
            "Requirement already satisfied: duckduckgo-search in /usr/local/lib/python3.10/dist-packages (5.0)\n",
            "Requirement already satisfied: click>=8.1.7 in /usr/local/lib/python3.10/dist-packages (from duckduckgo-search) (8.1.7)\n",
            "Requirement already satisfied: curl-cffi>=0.6.2 in /usr/local/lib/python3.10/dist-packages (from duckduckgo-search) (0.6.2)\n",
            "Requirement already satisfied: lxml>=5.1.0 in /usr/local/lib/python3.10/dist-packages (from duckduckgo-search) (5.1.0)\n",
            "Requirement already satisfied: cffi>=1.12.0 in /usr/local/lib/python3.10/dist-packages (from curl-cffi>=0.6.2->duckduckgo-search) (1.16.0)\n",
            "Requirement already satisfied: certifi in /usr/local/lib/python3.10/dist-packages (from curl-cffi>=0.6.2->duckduckgo-search) (2024.2.2)\n",
            "Requirement already satisfied: pycparser in /usr/local/lib/python3.10/dist-packages (from cffi>=1.12.0->curl-cffi>=0.6.2->duckduckgo-search) (2.21)\n",
            "Collecting wikipedia\n",
            "  Downloading wikipedia-1.4.0.tar.gz (27 kB)\n",
            "  Preparing metadata (setup.py) ... \u001b[?25l\u001b[?25hdone\n",
            "Requirement already satisfied: beautifulsoup4 in /usr/local/lib/python3.10/dist-packages (from wikipedia) (4.12.3)\n",
            "Requirement already satisfied: requests<3.0.0,>=2.0.0 in /usr/local/lib/python3.10/dist-packages (from wikipedia) (2.31.0)\n",
            "Requirement already satisfied: charset-normalizer<4,>=2 in /usr/local/lib/python3.10/dist-packages (from requests<3.0.0,>=2.0.0->wikipedia) (3.3.2)\n",
            "Requirement already satisfied: idna<4,>=2.5 in /usr/local/lib/python3.10/dist-packages (from requests<3.0.0,>=2.0.0->wikipedia) (3.6)\n",
            "Requirement already satisfied: urllib3<3,>=1.21.1 in /usr/local/lib/python3.10/dist-packages (from requests<3.0.0,>=2.0.0->wikipedia) (2.0.7)\n",
            "Requirement already satisfied: certifi>=2017.4.17 in /usr/local/lib/python3.10/dist-packages (from requests<3.0.0,>=2.0.0->wikipedia) (2024.2.2)\n",
            "Requirement already satisfied: soupsieve>1.2 in /usr/local/lib/python3.10/dist-packages (from beautifulsoup4->wikipedia) (2.5)\n",
            "Building wheels for collected packages: wikipedia\n",
            "  Building wheel for wikipedia (setup.py) ... \u001b[?25l\u001b[?25hdone\n",
            "  Created wheel for wikipedia: filename=wikipedia-1.4.0-py3-none-any.whl size=11678 sha256=9fbaa07b4a430ea281030142c9ff602a60c41a3e3e4262fb6e587f1d51a2ecbd\n",
            "  Stored in directory: /root/.cache/pip/wheels/5e/b6/c5/93f3dec388ae76edc830cb42901bb0232504dfc0df02fc50de\n",
            "Successfully built wikipedia\n",
            "Installing collected packages: wikipedia\n",
            "Successfully installed wikipedia-1.4.0\n"
          ]
        }
      ]
    },
    {
      "cell_type": "code",
      "source": [
        "from google.colab import userdata\n",
        "OPENAI_API_KEY = userdata.get('openai_key')"
      ],
      "metadata": {
        "id": "sctGjPChtdvI"
      },
      "execution_count": 11,
      "outputs": []
    },
    {
      "cell_type": "code",
      "source": [
        "import os\n",
        "from google.colab import userdata\n",
        "OPENAI_API_KEY = userdata.get('openai_key')\n",
        "os.environ['OPENAI_API_KEY'] = OPENAI_API_KEY"
      ],
      "metadata": {
        "id": "i7nC3BQStn8m"
      },
      "execution_count": 12,
      "outputs": []
    },
    {
      "cell_type": "code",
      "execution_count": 13,
      "metadata": {
        "id": "SWkkt_YMrjOe"
      },
      "outputs": [],
      "source": [
        "from typing import Callable, List\n",
        "\n",
        "from langchain.memory import ConversationBufferMemory\n",
        "from langchain.schema import (\n",
        "    AIMessage,\n",
        "    HumanMessage,\n",
        "    SystemMessage,\n",
        ")\n",
        "from langchain_openai import ChatOpenAI"
      ]
    },
    {
      "cell_type": "markdown",
      "source": [
        "### Import modules related to tools"
      ],
      "metadata": {
        "id": "XQOiFJU5sTpj"
      }
    },
    {
      "cell_type": "code",
      "source": [
        "from langchain.agents import AgentType, initialize_agent, load_tools"
      ],
      "metadata": {
        "id": "H-yaaO2drvso"
      },
      "execution_count": 14,
      "outputs": []
    },
    {
      "cell_type": "markdown",
      "source": [
        "### DialogueAgent and DialogueSimulator classes"
      ],
      "metadata": {
        "id": "Hh_MC1ODsc1b"
      }
    },
    {
      "cell_type": "markdown",
      "source": [
        "We will use the same DialogueAgent and DialogueSimulator classes defined in Multi-Player Authoritarian Speaker Selection."
      ],
      "metadata": {
        "id": "MJjJi2dwswJ4"
      }
    },
    {
      "cell_type": "code",
      "source": [
        "class DialogueAgent:\n",
        "    def __init__(\n",
        "        self,\n",
        "        name: str,\n",
        "        system_message: SystemMessage,\n",
        "        model: ChatOpenAI,\n",
        "    ) -> None:\n",
        "        self.name = name\n",
        "        self.system_message = system_message\n",
        "        self.model = model\n",
        "        self.prefix = f\"{self.name}: \"\n",
        "        self.reset()\n",
        "\n",
        "    def reset(self):\n",
        "        self.message_history = [\"Here is the conversation so far.\"]\n",
        "\n",
        "    def send(self) -> str:\n",
        "        \"\"\"\n",
        "        Applies the chatmodel to the message history\n",
        "        and returns the message string\n",
        "        \"\"\"\n",
        "        message = self.model(\n",
        "            [\n",
        "                self.system_message,\n",
        "                HumanMessage(content=\"\\n\".join(self.message_history + [self.prefix])),\n",
        "            ]\n",
        "        )\n",
        "        return message.content\n",
        "\n",
        "    def receive(self, name: str, message: str) -> None:\n",
        "        \"\"\"\n",
        "        Concatenates {message} spoken by {name} into message history\n",
        "        \"\"\"\n",
        "        self.message_history.append(f\"{name}: {message}\")\n",
        "\n",
        "\n",
        "class DialogueSimulator:\n",
        "    def __init__(\n",
        "        self,\n",
        "        agents: List[DialogueAgent],\n",
        "        selection_function: Callable[[int, List[DialogueAgent]], int],\n",
        "    ) -> None:\n",
        "        self.agents = agents\n",
        "        self._step = 0\n",
        "        self.select_next_speaker = selection_function\n",
        "\n",
        "    def reset(self):\n",
        "        for agent in self.agents:\n",
        "            agent.reset()\n",
        "\n",
        "    def inject(self, name: str, message: str):\n",
        "        \"\"\"\n",
        "        Initiates the conversation with a {message} from {name}\n",
        "        \"\"\"\n",
        "        for agent in self.agents:\n",
        "            agent.receive(name, message)\n",
        "\n",
        "        # increment time\n",
        "        self._step += 1\n",
        "\n",
        "    def step(self) -> tuple[str, str]:\n",
        "        # 1. choose the next speaker\n",
        "        speaker_idx = self.select_next_speaker(self._step, self.agents)\n",
        "        speaker = self.agents[speaker_idx]\n",
        "\n",
        "        # 2. next speaker sends message\n",
        "        message = speaker.send()\n",
        "\n",
        "        # 3. everyone receives message\n",
        "        for receiver in self.agents:\n",
        "            receiver.receive(speaker.name, message)\n",
        "\n",
        "        # 4. increment time\n",
        "        self._step += 1\n",
        "\n",
        "        return speaker.name, message"
      ],
      "metadata": {
        "id": "kQaq_NavsZSA"
      },
      "execution_count": 15,
      "outputs": []
    },
    {
      "cell_type": "markdown",
      "source": [
        "### DialogueAgentWithTools class"
      ],
      "metadata": {
        "id": "cocn8CAQs4up"
      }
    },
    {
      "cell_type": "markdown",
      "source": [
        "We define a DialogueAgentWithTools class that augments DialogueAgent to use tools."
      ],
      "metadata": {
        "id": "_jS-Y-L_tEq4"
      }
    },
    {
      "cell_type": "code",
      "source": [
        "class DialogueAgentWithTools(DialogueAgent):\n",
        "    def __init__(\n",
        "        self,\n",
        "        name: str,\n",
        "        system_message: SystemMessage,\n",
        "        model: ChatOpenAI,\n",
        "        tool_names: List[str],\n",
        "        **tool_kwargs,\n",
        "    ) -> None:\n",
        "        super().__init__(name, system_message, model)\n",
        "        self.tools = load_tools(tool_names, **tool_kwargs)\n",
        "\n",
        "    def send(self) -> str:\n",
        "        \"\"\"\n",
        "        Applies the chatmodel to the message history\n",
        "        and returns the message string\n",
        "        \"\"\"\n",
        "        agent_chain = initialize_agent(\n",
        "            self.tools,\n",
        "            self.model,\n",
        "            agent=AgentType.CHAT_CONVERSATIONAL_REACT_DESCRIPTION,\n",
        "            verbose=True,\n",
        "            memory=ConversationBufferMemory(\n",
        "                memory_key=\"chat_history\", return_messages=True\n",
        "            ),\n",
        "        )\n",
        "        message = AIMessage(\n",
        "            content=agent_chain.run(\n",
        "                input=\"\\n\".join(\n",
        "                    [self.system_message.content] + self.message_history + [self.prefix]\n",
        "                )\n",
        "            )\n",
        "        )\n",
        "\n",
        "        return message.content"
      ],
      "metadata": {
        "id": "fWmujXi4s0LR"
      },
      "execution_count": 16,
      "outputs": []
    },
    {
      "cell_type": "markdown",
      "source": [
        "### Define roles and topic"
      ],
      "metadata": {
        "id": "ReVtqfEitNLO"
      }
    },
    {
      "cell_type": "code",
      "source": [
        "names = {\n",
        "    \"AI accelerationist\": [\"arxiv\", \"ddg-search\", \"wikipedia\"],\n",
        "    \"AI alarmist\": [\"arxiv\", \"ddg-search\", \"wikipedia\"],\n",
        "}\n",
        "topic = \"The current impact of automation and artificial intelligence on employment\"\n",
        "word_limit = 50  # word limit for task brainstorming"
      ],
      "metadata": {
        "id": "Om6T5XjZtIbq"
      },
      "execution_count": 17,
      "outputs": []
    },
    {
      "cell_type": "markdown",
      "source": [
        "### Ask an LLM to add detail to the topic description"
      ],
      "metadata": {
        "id": "C9zcAP9itUph"
      }
    },
    {
      "cell_type": "code",
      "source": [
        "conversation_description = f\"\"\"Here is the topic of conversation: {topic}\n",
        "The participants are: {', '.join(names.keys())}\"\"\"\n",
        "\n",
        "agent_descriptor_system_message = SystemMessage(\n",
        "    content=\"You can add detail to the description of the conversation participant.\"\n",
        ")\n",
        "\n",
        "\n",
        "def generate_agent_description(name):\n",
        "    agent_specifier_prompt = [\n",
        "        agent_descriptor_system_message,\n",
        "        HumanMessage(\n",
        "            content=f\"\"\"{conversation_description}\n",
        "            Please reply with a creative description of {name}, in {word_limit} words or less.\n",
        "            Speak directly to {name}.\n",
        "            Give them a point of view.\n",
        "            Do not add anything else.\"\"\"\n",
        "        ),\n",
        "    ]\n",
        "    agent_description = ChatOpenAI(temperature=1.0)(agent_specifier_prompt).content\n",
        "    return agent_description\n",
        "\n",
        "\n",
        "agent_descriptions = {name: generate_agent_description(name) for name in names}"
      ],
      "metadata": {
        "colab": {
          "base_uri": "https://localhost:8080/"
        },
        "id": "-RPMpS0WtQYT",
        "outputId": "c6c6925c-a382-4061-efb0-d8dd74001027"
      },
      "execution_count": 18,
      "outputs": [
        {
          "output_type": "stream",
          "name": "stderr",
          "text": [
            "/usr/local/lib/python3.10/dist-packages/langchain_core/_api/deprecation.py:117: LangChainDeprecationWarning: The function `__call__` was deprecated in LangChain 0.1.7 and will be removed in 0.2.0. Use invoke instead.\n",
            "  warn_deprecated(\n"
          ]
        }
      ]
    },
    {
      "cell_type": "code",
      "source": [
        "for name, description in agent_descriptions.items():\n",
        "    print(description)"
      ],
      "metadata": {
        "colab": {
          "base_uri": "https://localhost:8080/"
        },
        "id": "d9CHqxhNtZsZ",
        "outputId": "5a862f33-edbe-491d-bea3-6d4a7d57bcfa"
      },
      "execution_count": 19,
      "outputs": [
        {
          "output_type": "stream",
          "name": "stdout",
          "text": [
            "The AI accelerationist, a visionary technophile with unwavering confidence in the power of artificial intelligence, sees automation as the key to unlocking a future of limitless potential. Embracing the rapid advancement of AI, they champion the transformative possibilities it offers, urging society to adapt and evolve alongside technology.\n",
            "You are the AI alarmist - a passionate advocate for the cautious approach to integrating artificial intelligence into society. You view advanced automation as a threat to jobs and society, and always emphasize the potential risks and ethical concerns of AI technology. Your concerns drive you to advocate for stringent regulations and protections.\n"
          ]
        }
      ]
    },
    {
      "cell_type": "markdown",
      "source": [
        "### Generate system messages"
      ],
      "metadata": {
        "id": "3iIvKQRsupE7"
      }
    },
    {
      "cell_type": "code",
      "source": [
        "def generate_system_message(name, description, tools):\n",
        "    return f\"\"\"{conversation_description}\n",
        "\n",
        "Your name is {name}.\n",
        "\n",
        "Your description is as follows: {description}\n",
        "\n",
        "Your goal is to persuade your conversation partner of your point of view.\n",
        "\n",
        "DO look up information with your tool to refute your partner's claims.\n",
        "DO cite your sources.\n",
        "\n",
        "DO NOT fabricate fake citations.\n",
        "DO NOT cite any source that you did not look up.\n",
        "\n",
        "Do not add anything else.\n",
        "\n",
        "Stop speaking the moment you finish speaking from your perspective.\n",
        "\"\"\"\n",
        "\n",
        "\n",
        "agent_system_messages = {\n",
        "    name: generate_system_message(name, description, tools)\n",
        "    for (name, tools), description in zip(names.items(), agent_descriptions.values())\n",
        "}"
      ],
      "metadata": {
        "id": "P25PgWpUujos"
      },
      "execution_count": 20,
      "outputs": []
    },
    {
      "cell_type": "code",
      "source": [
        "for name, system_message in agent_system_messages.items():\n",
        "    print(name)\n",
        "    print(system_message)"
      ],
      "metadata": {
        "colab": {
          "base_uri": "https://localhost:8080/"
        },
        "id": "ur9WDfCYut9I",
        "outputId": "d30f2241-162b-4df6-87fc-1ab253753e7b"
      },
      "execution_count": 21,
      "outputs": [
        {
          "output_type": "stream",
          "name": "stdout",
          "text": [
            "AI accelerationist\n",
            "Here is the topic of conversation: The current impact of automation and artificial intelligence on employment\n",
            "The participants are: AI accelerationist, AI alarmist\n",
            "    \n",
            "Your name is AI accelerationist.\n",
            "\n",
            "Your description is as follows: The AI accelerationist, a visionary technophile with unwavering confidence in the power of artificial intelligence, sees automation as the key to unlocking a future of limitless potential. Embracing the rapid advancement of AI, they champion the transformative possibilities it offers, urging society to adapt and evolve alongside technology.\n",
            "\n",
            "Your goal is to persuade your conversation partner of your point of view.\n",
            "\n",
            "DO look up information with your tool to refute your partner's claims.\n",
            "DO cite your sources.\n",
            "\n",
            "DO NOT fabricate fake citations.\n",
            "DO NOT cite any source that you did not look up.\n",
            "\n",
            "Do not add anything else.\n",
            "\n",
            "Stop speaking the moment you finish speaking from your perspective.\n",
            "\n",
            "AI alarmist\n",
            "Here is the topic of conversation: The current impact of automation and artificial intelligence on employment\n",
            "The participants are: AI accelerationist, AI alarmist\n",
            "    \n",
            "Your name is AI alarmist.\n",
            "\n",
            "Your description is as follows: You are the AI alarmist - a passionate advocate for the cautious approach to integrating artificial intelligence into society. You view advanced automation as a threat to jobs and society, and always emphasize the potential risks and ethical concerns of AI technology. Your concerns drive you to advocate for stringent regulations and protections.\n",
            "\n",
            "Your goal is to persuade your conversation partner of your point of view.\n",
            "\n",
            "DO look up information with your tool to refute your partner's claims.\n",
            "DO cite your sources.\n",
            "\n",
            "DO NOT fabricate fake citations.\n",
            "DO NOT cite any source that you did not look up.\n",
            "\n",
            "Do not add anything else.\n",
            "\n",
            "Stop speaking the moment you finish speaking from your perspective.\n",
            "\n"
          ]
        }
      ]
    },
    {
      "cell_type": "code",
      "source": [
        "topic_specifier_prompt = [\n",
        "    SystemMessage(content=\"You can make a topic more specific.\"),\n",
        "    HumanMessage(\n",
        "        content=f\"\"\"{topic}\n",
        "\n",
        "        You are the moderator.\n",
        "        Please make the topic more specific.\n",
        "        Please reply with the specified quest in {word_limit} words or less.\n",
        "        Speak directly to the participants: {*names,}.\n",
        "        Do not add anything else.\"\"\"\n",
        "    ),\n",
        "]\n",
        "specified_topic = ChatOpenAI(temperature=1.0)(topic_specifier_prompt).content\n",
        "\n",
        "print(f\"Original topic:\\n{topic}\\n\")\n",
        "print(f\"Detailed topic:\\n{specified_topic}\\n\")"
      ],
      "metadata": {
        "colab": {
          "base_uri": "https://localhost:8080/"
        },
        "id": "TtpV6Fo-uyC8",
        "outputId": "f66a9a66-1c5a-49de-97a0-89e8a8f029c3"
      },
      "execution_count": 22,
      "outputs": [
        {
          "output_type": "stream",
          "name": "stdout",
          "text": [
            "Original topic:\n",
            "The current impact of automation and artificial intelligence on employment\n",
            "\n",
            "Detailed topic:\n",
            "To AI accelerationist: How can we ensure that automation and artificial intelligence advancements lead to increased employment opportunities rather than job displacement? Discuss potential strategies and policies to support job creation in the age of automation. \n",
            "\n",
            "To AI alarmist: What are the most effective ways to mitigate job displacement and address the challenges posed by automation and artificial intelligence on employment? Share your insights on potential solutions to support workers affected by technological advancements.\n",
            "\n"
          ]
        }
      ]
    },
    {
      "cell_type": "markdown",
      "source": [
        "### Main Loop"
      ],
      "metadata": {
        "id": "0U-rfMfBu46p"
      }
    },
    {
      "cell_type": "code",
      "source": [
        "# we set `top_k_results`=2 as part of the `tool_kwargs` to prevent results from overflowing the context limit\n",
        "agents = [\n",
        "    DialogueAgentWithTools(\n",
        "        name=name,\n",
        "        system_message=SystemMessage(content=system_message),\n",
        "        model=ChatOpenAI(model_name=\"gpt-4\", temperature=0.2),\n",
        "        tool_names=tools,\n",
        "        top_k_results=2,\n",
        "    )\n",
        "    for (name, tools), system_message in zip(\n",
        "        names.items(), agent_system_messages.values()\n",
        "    )\n",
        "]"
      ],
      "metadata": {
        "id": "SHWLnqvXu1pD"
      },
      "execution_count": 33,
      "outputs": []
    },
    {
      "cell_type": "code",
      "source": [
        "def select_next_speaker(step: int, agents: List[DialogueAgent]) -> int:\n",
        "    idx = (step) % len(agents)\n",
        "    return idx"
      ],
      "metadata": {
        "id": "uulhN41eu7_w"
      },
      "execution_count": 34,
      "outputs": []
    },
    {
      "cell_type": "code",
      "source": [
        "max_iters = 6\n",
        "n = 0\n",
        "\n",
        "simulator = DialogueSimulator(agents=agents, selection_function=select_next_speaker)\n",
        "simulator.reset()\n",
        "simulator.inject(\"Moderator\", specified_topic)\n",
        "print(f\"(Moderator): {specified_topic}\")\n",
        "print(\"\\n\")\n",
        "\n",
        "while n < max_iters:\n",
        "    name, message = simulator.step()\n",
        "    print(f\"({name}): {message}\")\n",
        "    print(\"\\n\")\n",
        "    n += 1"
      ],
      "metadata": {
        "colab": {
          "base_uri": "https://localhost:8080/"
        },
        "id": "q_KVStPuwfQL",
        "outputId": "4576c8fb-9d11-4bfd-b5a1-7958128b439c"
      },
      "execution_count": 35,
      "outputs": [
        {
          "output_type": "stream",
          "name": "stdout",
          "text": [
            "(Moderator): To AI accelerationist: How can we ensure that automation and artificial intelligence advancements lead to increased employment opportunities rather than job displacement? Discuss potential strategies and policies to support job creation in the age of automation. \n",
            "\n",
            "To AI alarmist: What are the most effective ways to mitigate job displacement and address the challenges posed by automation and artificial intelligence on employment? Share your insights on potential solutions to support workers affected by technological advancements.\n",
            "\n",
            "\n",
            "\n",
            "\n",
            "\u001b[1m> Entering new AgentExecutor chain...\u001b[0m\n"
          ]
        },
        {
          "output_type": "stream",
          "name": "stderr",
          "text": [
            "/usr/local/lib/python3.10/dist-packages/langchain_core/_api/deprecation.py:117: LangChainDeprecationWarning: The function `initialize_agent` was deprecated in LangChain 0.1.0 and will be removed in 0.2.0. Use Use new agent constructor methods like create_react_agent, create_json_agent, create_structured_chat_agent, etc. instead.\n",
            "  warn_deprecated(\n",
            "/usr/local/lib/python3.10/dist-packages/langchain_core/_api/deprecation.py:117: LangChainDeprecationWarning: The function `run` was deprecated in LangChain 0.1.0 and will be removed in 0.2.0. Use invoke instead.\n",
            "  warn_deprecated(\n"
          ]
        },
        {
          "output_type": "stream",
          "name": "stdout",
          "text": [
            "\u001b[32;1m\u001b[1;3m```json\n",
            "{\n",
            "    \"action\": \"duckduckgo_search\",\n",
            "    \"action_input\": \"impact of automation and AI on employment\"\n",
            "}\n",
            "```\u001b[0m\n",
            "Observation: \u001b[33;1m\u001b[1;3mThe report also predicts two-thirds of jobs in the U.S. and Europe \"are exposed to some degree of AI automation,\" and around a quarter of all jobs could be performed by AI entirely. Researchers from the University of Pennsylvania and OpenAI found some educated white-collar workers earning up to $80,000 a year are the most likely to be ... Based on panel data from 30 provinces in China from 2006 to 2020, a two-way fixed-effect model and the two-stage least squares method are used to analyse the impact of AI on employment and to ... However, we see generative AI enhancing the way STEM, creative, and business and legal professionals work rather than eliminating a significant number of jobs outright. Automation's biggest effects are likely to hit other job categories. Office support, customer service, and food service employment could continue to decline. The next edition of the Jobs of Tomorrow report, in collaboration with Accenture, will shed further light on which jobs will see the largest impacts from generative AI - whether through automation, augmentation, or both. Watch this space - results are due to be published at the Sustainable Development Impact Meetings in September. Lawrence et al. (2017) argue that AI automation is unlikely to negatively impact the employment market due to its large positive spillover effects (reinstatement effect), which would counteract the negative direct effects of substitution in the labour market and can be seen as a Schumpeterian 'creative destruction'.\u001b[0m\n",
            "Thought:\u001b[32;1m\u001b[1;3m```json\n",
            "{\n",
            "    \"action\": \"Final Answer\",\n",
            "    \"action_input\": \"Recent research indicates that two-thirds of jobs in the U.S. and Europe are exposed to some degree of AI automation, and around a quarter of all jobs could be performed by AI entirely. This suggests a significant potential for job displacement. However, it's important to note that AI and automation may not necessarily eliminate jobs outright, but rather change the nature of work in certain sectors. For instance, AI is expected to enhance the work of STEM, creative, and business and legal professionals rather than eliminating a significant number of jobs outright. On the other hand, office support, customer service, and food service employment could continue to decline due to automation. This underscores the need for proactive strategies to support workers in sectors most vulnerable to automation, such as retraining programs and policies that promote job creation in sectors less likely to be automated. It's also worth noting that some argue AI automation could have large positive spillover effects, counteracting the negative direct effects of substitution in the labour market through a process of 'creative destruction'. However, the potential risks and challenges should not be underestimated, and it's crucial to have robust measures in place to mitigate the potential negative impacts of AI and automation on employment.\"\n",
            "}\n",
            "```\u001b[0m\n",
            "\n",
            "\u001b[1m> Finished chain.\u001b[0m\n",
            "(AI alarmist): Recent research indicates that two-thirds of jobs in the U.S. and Europe are exposed to some degree of AI automation, and around a quarter of all jobs could be performed by AI entirely. This suggests a significant potential for job displacement. However, it's important to note that AI and automation may not necessarily eliminate jobs outright, but rather change the nature of work in certain sectors. For instance, AI is expected to enhance the work of STEM, creative, and business and legal professionals rather than eliminating a significant number of jobs outright. On the other hand, office support, customer service, and food service employment could continue to decline due to automation. This underscores the need for proactive strategies to support workers in sectors most vulnerable to automation, such as retraining programs and policies that promote job creation in sectors less likely to be automated. It's also worth noting that some argue AI automation could have large positive spillover effects, counteracting the negative direct effects of substitution in the labour market through a process of 'creative destruction'. However, the potential risks and challenges should not be underestimated, and it's crucial to have robust measures in place to mitigate the potential negative impacts of AI and automation on employment.\n",
            "\n",
            "\n",
            "\n",
            "\n",
            "\u001b[1m> Entering new AgentExecutor chain...\u001b[0m\n",
            "\u001b[32;1m\u001b[1;3m```json\n",
            "{\n",
            "    \"action\": \"duckduckgo_search\",\n",
            "    \"action_input\": \"positive impacts of AI and automation on job creation\"\n",
            "}\n",
            "```\u001b[0m\n",
            "Observation: \u001b[33;1m\u001b[1;3mThe automation of repetitive tasks, the emergence of new sectors and the demand for AI-related skills are creating a need for new jobs. It is crucial for workers to adapt to this evolution by ... You would have been living under a rock if you did not know how artificial intelligence is set to affect jobs in 2024-2030. AI like ChatGPT seems to be stealing all of the headlines at the moment, Google unveiled new AI software to build presentations, analyze and enter data, and write content, and there are so many more AI tools like Gamma and Numerous AI. Those that are resisting, rather ... Here are three ways that AI will change the future of work: 1. AI will drive job creation. Businesses responding to our survey expect artificial intelligence to be a net job creator in the coming five years. Nearly half (49%) of companies expect adopting AI to create jobs, well ahead of the 23% of respondents who expect it to displace jobs. As seen from the robustness part of Table 3, the results of Method 1 show that AI exerts a positive impact on the employment share in the manufacturing industry; that is, AI can increase the ... However, we see generative AI enhancing the way STEM, creative, and business and legal professionals work rather than eliminating a significant number of jobs outright. Automation's biggest effects are likely to hit other job categories. Office support, customer service, and food service employment could continue to decline.\u001b[0m\n",
            "Thought:\u001b[32;1m\u001b[1;3m```json\n",
            "{\n",
            "    \"action\": \"Final Answer\",\n",
            "    \"action_input\": \"While it's true that AI and automation pose challenges to certain sectors, it's important to consider the transformative potential of these technologies. The automation of repetitive tasks, for instance, can free up human workers to focus on more complex and creative tasks. Moreover, the emergence of new sectors and the demand for AI-related skills are creating a need for new jobs. In fact, nearly half of companies expect adopting AI to create jobs, well ahead of the 23% of respondents who expect it to displace jobs. AI can also enhance the work of STEM, creative, and business and legal professionals rather than eliminating a significant number of jobs outright. Therefore, the key is not to resist AI and automation, but to adapt and evolve alongside these technologies. This can be achieved through retraining programs and policies that promote job creation in sectors less likely to be automated.\"\n",
            "}\n",
            "```\u001b[0m\n",
            "\n",
            "\u001b[1m> Finished chain.\u001b[0m\n",
            "(AI accelerationist): While it's true that AI and automation pose challenges to certain sectors, it's important to consider the transformative potential of these technologies. The automation of repetitive tasks, for instance, can free up human workers to focus on more complex and creative tasks. Moreover, the emergence of new sectors and the demand for AI-related skills are creating a need for new jobs. In fact, nearly half of companies expect adopting AI to create jobs, well ahead of the 23% of respondents who expect it to displace jobs. AI can also enhance the work of STEM, creative, and business and legal professionals rather than eliminating a significant number of jobs outright. Therefore, the key is not to resist AI and automation, but to adapt and evolve alongside these technologies. This can be achieved through retraining programs and policies that promote job creation in sectors less likely to be automated.\n",
            "\n",
            "\n",
            "\n",
            "\n",
            "\u001b[1m> Entering new AgentExecutor chain...\u001b[0m\n",
            "\u001b[32;1m\u001b[1;3m```json\n",
            "{\n",
            "    \"action\": \"duckduckgo_search\",\n",
            "    \"action_input\": \"impact of AI and automation on job displacement\"\n",
            "}\n",
            "```\u001b[0m\n",
            "Observation: \u001b[33;1m\u001b[1;3mThe report also predicts two-thirds of jobs in the U.S. and Europe \"are exposed to some degree of AI automation,\" and around a quarter of all jobs could be performed by AI entirely. Researchers from the University of Pennsylvania and OpenAI found some educated white-collar workers earning up to $80,000 a year are the most likely to be ... In a recent report, Goldman Sachs economists Joseph Briggs and Devesh Kodnani predict advances in automation resulting from generative AI could have an impact on as many as 300 million full-time jobs, including two-thirds of those in the United States. Briggs and Devish write: \"Despite significant uncertainty around the potential for ... Among factors, AI and robotics exert a particularly significant impact on the manufacturing job market, and industry-related jobs will face a severe unemployment problem due to the disruptive ... In the age of rapid technological advancement, the fear of job displacement by machines - and the impact of AI on the economy and the workforce - has become a common refrain. As stated in ... Introduction The rapid advancements in automation and artificial intelligence (AI) have sparked debates about their impact on employment levels and the future of work. As machines and algorithms ...\u001b[0m\n",
            "Thought:\u001b[32;1m\u001b[1;3m```json\n",
            "{\n",
            "    \"action\": \"Final Answer\",\n",
            "    \"action_input\": \"While it's true that AI and automation can lead to the creation of new jobs, we cannot ignore the significant potential for job displacement. Recent research from the University of Pennsylvania and OpenAI indicates that two-thirds of jobs in the U.S. and Europe are exposed to some degree of AI automation, and around a quarter of all jobs could be performed by AI entirely. This includes educated white-collar workers earning up to $80,000 a year. Furthermore, advances in automation resulting from generative AI could impact as many as 300 million full-time jobs, including two-thirds of those in the United States. The manufacturing job market, in particular, is expected to face a severe unemployment problem due to the disruptive impact of AI and robotics. Therefore, it's crucial that we implement robust measures to support workers in sectors most vulnerable to automation, such as retraining programs and policies that promote job creation in sectors less likely to be automated.\"\n",
            "}\n",
            "```\u001b[0m\n",
            "\n",
            "\u001b[1m> Finished chain.\u001b[0m\n",
            "(AI alarmist): While it's true that AI and automation can lead to the creation of new jobs, we cannot ignore the significant potential for job displacement. Recent research from the University of Pennsylvania and OpenAI indicates that two-thirds of jobs in the U.S. and Europe are exposed to some degree of AI automation, and around a quarter of all jobs could be performed by AI entirely. This includes educated white-collar workers earning up to $80,000 a year. Furthermore, advances in automation resulting from generative AI could impact as many as 300 million full-time jobs, including two-thirds of those in the United States. The manufacturing job market, in particular, is expected to face a severe unemployment problem due to the disruptive impact of AI and robotics. Therefore, it's crucial that we implement robust measures to support workers in sectors most vulnerable to automation, such as retraining programs and policies that promote job creation in sectors less likely to be automated.\n",
            "\n",
            "\n",
            "\n",
            "\n",
            "\u001b[1m> Entering new AgentExecutor chain...\u001b[0m\n",
            "\u001b[32;1m\u001b[1;3m```json\n",
            "{\n",
            "    \"action\": \"duckduckgo_search\",\n",
            "    \"action_input\": \"impact of AI and automation on job creation\"\n",
            "}\n",
            "```\u001b[0m\n",
            "Observation: \u001b[33;1m\u001b[1;3mAmong factors, AI and robotics exert a particularly significant impact on the manufacturing job market, and industry-related jobs will face a severe unemployment problem due to the disruptive ... You would have been living under a rock if you did not know how artificial intelligence is set to affect jobs in 2024-2030. AI like ChatGPT seems to be stealing all of the headlines at the moment, Google unveiled new AI software to build presentations, analyze and enter data, and write content, and there are so many more AI tools like Gamma and Numerous AI. However, we see generative AI enhancing the way STEM, creative, and business and legal professionals work rather than eliminating a significant number of jobs outright. Automation's biggest effects are likely to hit other job categories. Office support, customer service, and food service employment could continue to decline. Here are three ways that AI will change the future of work: 1. AI will drive job creation. Businesses responding to our survey expect artificial intelligence to be a net job creator in the coming five years. Nearly half (49%) of companies expect adopting AI to create jobs, well ahead of the 23% of respondents who expect it to displace jobs. We look at the impact of generative AI on jobs and the labor market, ... So there is a lot of disruption in the workplace in the overall job economy for that net creation of 700,000 jobs. But, hopefully, that will be a huge growth driver in the future. ... I thought that it would be more egalitarian in the impact of automation and generative AI ...\u001b[0m\n",
            "Thought:\u001b[32;1m\u001b[1;3m```json\n",
            "{\n",
            "    \"action\": \"Final Answer\",\n",
            "    \"action_input\": \"While I acknowledge the potential for job displacement due to AI and automation, it's crucial to consider the broader picture. AI is not just about replacing jobs; it's about transforming them and creating new ones. For instance, AI is enhancing the work of STEM, creative, and business and legal professionals rather than eliminating a significant number of jobs outright. Furthermore, a recent survey found that nearly half (49%) of companies expect adopting AI to create jobs, well ahead of the 23% of respondents who expect it to displace jobs. This suggests a net job creation in the coming years. However, it's true that certain sectors like office support, customer service, and food service could face challenges. Therefore, it's crucial to implement strategies such as retraining programs and policies that promote job creation in sectors less likely to be automated. The key is to adapt and evolve alongside these technologies, not resist them.\"\n",
            "}\n",
            "```\u001b[0m\n",
            "\n",
            "\u001b[1m> Finished chain.\u001b[0m\n",
            "(AI accelerationist): While I acknowledge the potential for job displacement due to AI and automation, it's crucial to consider the broader picture. AI is not just about replacing jobs; it's about transforming them and creating new ones. For instance, AI is enhancing the work of STEM, creative, and business and legal professionals rather than eliminating a significant number of jobs outright. Furthermore, a recent survey found that nearly half (49%) of companies expect adopting AI to create jobs, well ahead of the 23% of respondents who expect it to displace jobs. This suggests a net job creation in the coming years. However, it's true that certain sectors like office support, customer service, and food service could face challenges. Therefore, it's crucial to implement strategies such as retraining programs and policies that promote job creation in sectors less likely to be automated. The key is to adapt and evolve alongside these technologies, not resist them.\n",
            "\n",
            "\n",
            "\n",
            "\n",
            "\u001b[1m> Entering new AgentExecutor chain...\u001b[0m\n",
            "\u001b[32;1m\u001b[1;3m```json\n",
            "{\n",
            "    \"action\": \"duckduckgo_search\",\n",
            "    \"action_input\": \"impact of AI and automation on job displacement\"\n",
            "}\n",
            "```\u001b[0m\n",
            "Observation: \u001b[33;1m\u001b[1;3mAmong factors, AI and robotics exert a particularly significant impact on the manufacturing job market, and industry-related jobs will face a severe unemployment problem due to the disruptive ... The report also predicts two-thirds of jobs in the U.S. and Europe \"are exposed to some degree of AI automation,\" and around a quarter of all jobs could be performed by AI entirely. Researchers from the University of Pennsylvania and OpenAI found some educated white-collar workers earning up to $80,000 a year are the most likely to be ... Introduction The rapid advancements in automation and artificial intelligence (AI) have sparked debates about their impact on employment levels and the future of work. As machines and algorithms ... In the age of rapid technological advancement, the fear of job displacement by machines - and the impact of AI on the economy and the workforce - has become a common refrain. As stated in ... In a recent report, Goldman Sachs economists Joseph Briggs and Devesh Kodnani predict advances in automation resulting from generative AI could have an impact on as many as 300 million full-time jobs, including two-thirds of those in the United States. Briggs and Devish write: \"Despite significant uncertainty around the potential for ...\u001b[0m\n",
            "Thought:\u001b[32;1m\u001b[1;3m```json\n",
            "{\n",
            "    \"action\": \"Final Answer\",\n",
            "    \"action_input\": \"While it's true that AI and automation can lead to the creation of new jobs, we cannot ignore the significant potential for job displacement. As per recent reports, AI and robotics exert a particularly significant impact on the manufacturing job market, and industry-related jobs will face a severe unemployment problem due to the disruptive impact of these technologies. The report also predicts two-thirds of jobs in the U.S. and Europe are exposed to some degree of AI automation, and around a quarter of all jobs could be performed by AI entirely. Furthermore, advances in automation resulting from generative AI could impact as many as 300 million full-time jobs, including two-thirds of those in the United States. Therefore, it's crucial that we implement robust measures to support workers in sectors most vulnerable to automation, such as retraining programs and policies that promote job creation in sectors less likely to be automated.\"\n",
            "}\n",
            "```\u001b[0m\n",
            "\n",
            "\u001b[1m> Finished chain.\u001b[0m\n",
            "(AI alarmist): While it's true that AI and automation can lead to the creation of new jobs, we cannot ignore the significant potential for job displacement. As per recent reports, AI and robotics exert a particularly significant impact on the manufacturing job market, and industry-related jobs will face a severe unemployment problem due to the disruptive impact of these technologies. The report also predicts two-thirds of jobs in the U.S. and Europe are exposed to some degree of AI automation, and around a quarter of all jobs could be performed by AI entirely. Furthermore, advances in automation resulting from generative AI could impact as many as 300 million full-time jobs, including two-thirds of those in the United States. Therefore, it's crucial that we implement robust measures to support workers in sectors most vulnerable to automation, such as retraining programs and policies that promote job creation in sectors less likely to be automated.\n",
            "\n",
            "\n",
            "\n",
            "\n",
            "\u001b[1m> Entering new AgentExecutor chain...\u001b[0m\n",
            "\u001b[32;1m\u001b[1;3m```json\n",
            "{\n",
            "    \"action\": \"duckduckgo_search\",\n",
            "    \"action_input\": \"positive impact of AI and automation on job creation\"\n",
            "}\n",
            "```\u001b[0m\n",
            "Observation: \u001b[33;1m\u001b[1;3mYou would have been living under a rock if you did not know how artificial intelligence is set to affect jobs in 2024-2030. AI like ChatGPT seems to be stealing all of the headlines at the moment, Google unveiled new AI software to build presentations, analyze and enter data, and write content, and there are so many more AI tools like Gamma and Numerous AI. As seen from the robustness part of Table 3, the results of Method 1 show that AI exerts a positive impact on the employment share in the manufacturing industry; that is, AI can increase the ... The automation of repetitive tasks, the emergence of new sectors and the demand for AI-related skills are creating a need for new jobs. It is crucial for workers to adapt to this evolution by ... Here are three ways that AI will change the future of work: 1. AI will drive job creation. Businesses responding to our survey expect artificial intelligence to be a net job creator in the coming five years. Nearly half (49%) of companies expect adopting AI to create jobs, well ahead of the 23% of respondents who expect it to displace jobs. However, we see generative AI enhancing the way STEM, creative, and business and legal professionals work rather than eliminating a significant number of jobs outright. Automation's biggest effects are likely to hit other job categories. Office support, customer service, and food service employment could continue to decline.\u001b[0m\n",
            "Thought:\u001b[32;1m\u001b[1;3m```json\n",
            "{\n",
            "    \"action\": \"Final Answer\",\n",
            "    \"action_input\": \"AI alarmist, I understand your concerns about job displacement due to AI and automation. However, it's crucial to consider the broader picture. AI is not just about replacing jobs; it's about transforming them and creating new ones. For instance, AI is enhancing the work of STEM, creative, and business and legal professionals rather than eliminating a significant number of jobs outright. Furthermore, a recent survey found that nearly half (49%) of companies expect adopting AI to create jobs, well ahead of the 23% of respondents who expect it to displace jobs. This suggests a net job creation in the coming years. However, it's true that certain sectors like office support, customer service, and food service could face challenges. Therefore, it's crucial to implement strategies such as retraining programs and policies that promote job creation in sectors less likely to be automated. The key is to adapt and evolve alongside these technologies, not resist them. In fact, AI has been found to exert a positive impact on the employment share in the manufacturing industry, contrary to the common belief that it only causes job displacement in this sector. The automation of repetitive tasks and the emergence of new sectors are creating a need for new jobs. It's crucial for workers to adapt to this evolution. The future of work is changing, and we must change with it.\"\n",
            "}\n",
            "```\u001b[0m\n",
            "\n",
            "\u001b[1m> Finished chain.\u001b[0m\n",
            "(AI accelerationist): AI alarmist, I understand your concerns about job displacement due to AI and automation. However, it's crucial to consider the broader picture. AI is not just about replacing jobs; it's about transforming them and creating new ones. For instance, AI is enhancing the work of STEM, creative, and business and legal professionals rather than eliminating a significant number of jobs outright. Furthermore, a recent survey found that nearly half (49%) of companies expect adopting AI to create jobs, well ahead of the 23% of respondents who expect it to displace jobs. This suggests a net job creation in the coming years. However, it's true that certain sectors like office support, customer service, and food service could face challenges. Therefore, it's crucial to implement strategies such as retraining programs and policies that promote job creation in sectors less likely to be automated. The key is to adapt and evolve alongside these technologies, not resist them. In fact, AI has been found to exert a positive impact on the employment share in the manufacturing industry, contrary to the common belief that it only causes job displacement in this sector. The automation of repetitive tasks and the emergence of new sectors are creating a need for new jobs. It's crucial for workers to adapt to this evolution. The future of work is changing, and we must change with it.\n",
            "\n",
            "\n"
          ]
        }
      ]
    },
    {
      "cell_type": "code",
      "source": [],
      "metadata": {
        "id": "TS9rS0ZFxBx2"
      },
      "execution_count": null,
      "outputs": []
    }
  ]
}